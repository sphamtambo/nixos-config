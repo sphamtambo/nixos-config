{
 "cells": [
  {
   "cell_type": "code",
   "execution_count": 1,
   "id": "69cbe4fe-881c-4592-8cc9-9256504cf9bb",
   "metadata": {
    "editable": true,
    "slideshow": {
     "slide_type": ""
    },
    "tags": []
   },
   "outputs": [],
   "source": [
    "import pandas as pd\n",
    "import numpy as np"
   ]
  },
  {
   "cell_type": "code",
   "execution_count": 2,
   "id": "8da78510-aac4-4bdd-9966-46f43dc5e8a2",
   "metadata": {
    "editable": true,
    "slideshow": {
     "slide_type": ""
    },
    "tags": []
   },
   "outputs": [],
   "source": [
    "def generate_data(num_rows, num_columns):\n",
    "    # Generate random data using NumPy\n",
    "    data = np.random.randn(num_rows, num_columns)\n",
    "    \n",
    "    # Create a Pandas DataFrame from the NumPy array\n",
    "    df = pd.DataFrame(data, columns=[f'Column{i}' for i in range(1, num_columns + 1)])\n",
    "    \n",
    "    return df"
   ]
  },
  {
   "cell_type": "code",
   "execution_count": 3,
   "id": "d36eee60-62db-43a0-b6ca-15999073f09b",
   "metadata": {
    "editable": true,
    "slideshow": {
     "slide_type": ""
    },
    "tags": []
   },
   "outputs": [
    {
     "name": "stdout",
     "output_type": "stream",
     "text": [
      "Generated DataFrame:\n",
      "    Column1   Column2   Column3\n",
      "0 -0.317775 -0.036032  0.330658\n",
      "1  0.554317 -0.341761 -1.793066\n",
      "2  0.556141 -0.325474  0.243475\n",
      "3  1.076795 -1.065712  1.179079\n",
      "4 -0.564897 -0.340988 -0.987922\n"
     ]
    }
   ],
   "source": [
    "if __name__ == \"__main__\":\n",
    "    num_rows = 5\n",
    "    num_columns = 3\n",
    "    df = generate_data(num_rows, num_columns)\n",
    "    print(\"Generated DataFrame:\")\n",
    "    print(df)"
   ]
  },
  {
   "cell_type": "code",
   "execution_count": null,
   "id": "13a224f6-8f42-4e3d-91e4-e3a76f5f0945",
   "metadata": {
    "editable": true,
    "slideshow": {
     "slide_type": ""
    },
    "tags": []
   },
   "outputs": [],
   "source": []
  }
 ],
 "metadata": {
  "kernelspec": {
   "display_name": "Python 3 (ipykernel)",
   "language": "python",
   "name": "python3"
  },
  "language_info": {
   "codemirror_mode": {
    "name": "ipython",
    "version": 3
   },
   "file_extension": ".py",
   "mimetype": "text/x-python",
   "name": "python",
   "nbconvert_exporter": "python",
   "pygments_lexer": "ipython3",
   "version": "3.11.8"
  }
 },
 "nbformat": 4,
 "nbformat_minor": 5
}
